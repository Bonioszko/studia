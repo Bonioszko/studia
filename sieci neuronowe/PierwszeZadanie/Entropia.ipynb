{
 "cells": [
  {
   "cell_type": "code",
   "execution_count": null,
   "metadata": {},
   "outputs": [
    {
     "ename": "",
     "evalue": "",
     "output_type": "error",
     "traceback": [
      "\u001b[1;31mThe kernel failed to start due to the missing module 'pygments'. Consider installing this module.\n",
      "\u001b[1;31mClick <a href='https://aka.ms/kernelFailuresMissingModule'>here</a> for more info."
     ]
    }
   ],
   "source": [
    "import csv\n",
    "# Open the CSV file in read mode\n",
    "with open('titanic-homework.csv', 'r') as csvfile:\n",
    "  # Create a reader object\n",
    "  csv_reader = csv.reader(csvfile)\n",
    "  \n",
    "  # Iterate through the rows in the CSV file\n",
    "  for row in csv_reader:\n",
    "    # Access each element in the row\n",
    "    print(row)\n",
    "\n",
    "    \n",
    "    "
   ]
  }
 ],
 "metadata": {
  "kernelspec": {
   "display_name": "Python 3",
   "language": "python",
   "name": "python3"
  },
  "language_info": {
   "name": "python",
   "version": "3.11.9"
  }
 },
 "nbformat": 4,
 "nbformat_minor": 2
}
