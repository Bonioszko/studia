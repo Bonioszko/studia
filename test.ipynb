{
 "cells": [
  {
   "cell_type": "code",
   "execution_count": 20,
   "metadata": {},
   "outputs": [
    {
     "name": "stdout",
     "output_type": "stream",
     "text": [
      "-0.5210896782498619\n",
      "-0.5210896782498619\n",
      "-0.5287712379549449\n",
      "-0.38997500048077083\n",
      "-0.5283208335737187\n",
      "-1.5709505944546684\n",
      "0.03184713375796178\n",
      "-0.44217935649972373\n"
     ]
    }
   ],
   "source": [
    "import math\n",
    "print((3/10) * math.log((3/10),2))\n",
    "print((3/10) * math.log((3/10),2))\n",
    "print((4/10) * math.log((4/10),2))\n",
    "print(1/3)\n",
    "print((2/3) * math.log((2/3),2))\n",
    "\n",
    "print((1/3) * math.log((1/3),2))\n",
    "print(((3/10) * math.log((3/10),2)) +((3/10) * math.log((3/10),2))  +((4/10) * math.log((4/10),2)) )\n",
    "\n",
    "print(0.05 / 1.57)\n",
    "\n",
    "\n",
    "print((6/10) * math.log((6/10),2))"
   ]
  }
 ],
 "metadata": {
  "kernelspec": {
   "display_name": "Python 3",
   "language": "python",
   "name": "python3"
  },
  "language_info": {
   "codemirror_mode": {
    "name": "ipython",
    "version": 3
   },
   "file_extension": ".py",
   "mimetype": "text/x-python",
   "name": "python",
   "nbconvert_exporter": "python",
   "pygments_lexer": "ipython3",
   "version": "3.11.9"
  }
 },
 "nbformat": 4,
 "nbformat_minor": 2
}
