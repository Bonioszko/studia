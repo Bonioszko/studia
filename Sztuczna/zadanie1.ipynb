{
 "cells": [
  {
   "cell_type": "markdown",
   "metadata": {},
   "source": [
    "Reading data "
   ]
  },
  {
   "cell_type": "code",
   "execution_count": 104,
   "metadata": {},
   "outputs": [],
   "source": [
    "import csv\n",
    "from collections import defaultdict\n",
    "import math\n",
    "# Open the CSV file in read mode\n",
    "data = []\n",
    "with open('titanic-homework.csv', 'r') as csvfile:\n",
    "  csv_reader = csv.reader(csvfile)\n",
    "\n",
    "  for row in csv_reader:\n",
    "      data.append(row)\n",
    "\n",
    "data_length = len(data) -1"
   ]
  },
  {
   "cell_type": "code",
   "execution_count": 105,
   "metadata": {},
   "outputs": [],
   "source": [
    "#first index is for no, second for yes\n",
    "def CollectData(data, attr):\n",
    "    values = defaultdict(lambda: [0, 0])\n",
    "    for i, row in enumerate(data):\n",
    "        if i != 0:  # Skip the header row\n",
    "            if attr == 4:  # Check if the attribute is the fourth one (age)\n",
    "                age = int(row[attr])\n",
    "                if 0 <= age <= 20:\n",
    "                    age_group = 'young'\n",
    "                elif 20 < age <= 40:\n",
    "                    age_group = 'middle'\n",
    "                elif 40 < age <= 100:\n",
    "                    age_group = 'old'\n",
    "                else:\n",
    "                    continue  # Skip invalid age values\n",
    "\n",
    "                if int(row[-1]) == 1:\n",
    "                    values[age_group][1] += 1\n",
    "                else:\n",
    "                    values[age_group][0] += 1\n",
    "            else:\n",
    "                if int(row[-1]) == 1:\n",
    "                    values[row[attr]][1] += 1\n",
    "                else:\n",
    "                    values[row[attr]][0] += 1\n",
    "    return values\n",
    "\n",
    "def CalculateEntropyForAttr(data):\n",
    "    entropies={}\n",
    "    for key in data.keys():\n",
    "        first_value = data[key][0]\n",
    "        second_value = data[key][1]\n",
    "        sum_values = first_value + second_value\n",
    "\n",
    "        entropy = 0\n",
    "        if first_value > 0:\n",
    "            entropy -= (first_value / sum_values) * math.log2(first_value / sum_values)\n",
    "        if second_value > 0:\n",
    "            entropy -= (second_value / sum_values) * math.log2(second_value / sum_values)\n",
    "\n",
    "        entropies[key] = entropy\n",
    "    return entropies\n",
    "\n",
    "def CalculateIntrinsicInfo(attr):\n",
    "    intrinsic_info= 0\n",
    "    for value in attr.values():\n",
    "        temp = (value[0] + value[1]) / data_length\n",
    "        intrinsic_info -=  temp * math.log2(temp)\n",
    "    return intrinsic_info"
   ]
  },
  {
   "cell_type": "markdown",
   "metadata": {},
   "source": [
    "getting occurances of survival for each value for each attribute\n",
    "Calculating entropies for each value of each argument"
   ]
  },
  {
   "cell_type": "code",
   "execution_count": 106,
   "metadata": {},
   "outputs": [
    {
     "name": "stdout",
     "output_type": "stream",
     "text": [
      "[defaultdict(<function CollectData.<locals>.<lambda> at 0x0000010D87950280>, {'3': [44, 16], '1': [9, 12], '2': [7, 12]}), defaultdict(<function CollectData.<locals>.<lambda> at 0x0000010D87931EE0>, {'male': [53, 7], 'female': [7, 33]}), defaultdict(<function CollectData.<locals>.<lambda> at 0x0000010D87A9D1F0>, {'middle': [31, 19], 'old': [14, 7], 'young': [15, 14]}), defaultdict(<function CollectData.<locals>.<lambda> at 0x0000010D847515E0>, {'1': [15, 12], '0': [34, 25], '3': [4, 2], '4': [2, 1], '2': [3, 0], '5': [2, 0]}), defaultdict(<function CollectData.<locals>.<lambda> at 0x0000010D84751CA0>, {'0': [48, 29], '1': [5, 4], '2': [5, 6], '5': [1, 1], '3': [1, 0]})]\n",
      "[{'3': 0.8366407419411673, '1': 0.9852281360342516, '2': 0.9494520153879484}, {'male': 0.5197027865043055, 'female': 0.6690158350565576}, {'middle': 0.9580420222262995, 'old': 0.9182958340544896, 'young': 0.9991421039919088}, {'1': 0.9910760598382222, '0': 0.9831491282282878, '3': 0.9182958340544896, '4': 0.9182958340544896, '2': 0.0, '5': 0.0}, {'0': 0.9556222693531469, '1': 0.9910760598382222, '2': 0.9940302114769565, '5': 1.0, '3': 0.0}]\n"
     ]
    }
   ],
   "source": [
    "decisions = []\n",
    "for i in range (1, len(data[0])-1):\n",
    "    #skip the name attr\n",
    "    if i !=2:\n",
    "        dict = CollectData(data, i)\n",
    "        decisions.append(dict)\n",
    "print(decisions)\n",
    "\n",
    "entropies = []\n",
    "\n",
    "for attr in decisions:\n",
    "    entropies.append(CalculateEntropyForAttr(attr))\n",
    "\n",
    "print(entropies)"
   ]
  },
  {
   "cell_type": "markdown",
   "metadata": {},
   "source": [
    "Calculating conditional entropy for each argument"
   ]
  },
  {
   "cell_type": "code",
   "execution_count": 107,
   "metadata": {},
   "outputs": [
    {
     "name": "stdout",
     "output_type": "stream",
     "text": [
      "[0.8892782366556035, 0.5794280059252064, 0.9616143464222462, 0.9302951468759139, 0.9543693160498283]\n"
     ]
    }
   ],
   "source": [
    "conditional_entropies= []\n",
    "for i, attr in enumerate(decisions):\n",
    "    conditional_entr = 0\n",
    "    for key in attr.keys():\n",
    "        conditional_entr += ((decisions[i][key][0] + decisions[i][key][1]) / data_length) * entropies[i][key]\n",
    "    conditional_entropies.append(conditional_entr)\n",
    "\n",
    "print(conditional_entropies)\n",
    "\n"
   ]
  },
  {
   "cell_type": "markdown",
   "metadata": {},
   "source": [
    "Calculating information gain for each argument"
   ]
  },
  {
   "cell_type": "code",
   "execution_count": 108,
   "metadata": {},
   "outputs": [
    {
     "name": "stdout",
     "output_type": "stream",
     "text": [
      "[0.11072176334439654, 0.4205719940747936, 0.03838565357775381, 0.06970485312408614, 0.04563068395017167]\n"
     ]
    }
   ],
   "source": [
    "information_gains = []\n",
    "for value in conditional_entropies:\n",
    "    information_gains.append (1- value)\n",
    "\n",
    "print(information_gains)"
   ]
  },
  {
   "cell_type": "markdown",
   "metadata": {},
   "source": [
    "Calculating gain ratios for each of the attributes"
   ]
  },
  {
   "cell_type": "code",
   "execution_count": 109,
   "metadata": {},
   "outputs": [
    {
     "name": "stdout",
     "output_type": "stream",
     "text": [
      "[0.08080530167007237, 0.4331548860228121, 0.025749620775081968, 0.04305209220247883, 0.040288443395889766]\n"
     ]
    }
   ],
   "source": [
    "gain_ratios =[]\n",
    "for i, attr in enumerate(decisions):\n",
    "    gain_ratios.append(information_gains[i] / CalculateIntrinsicInfo(attr))\n",
    "print(gain_ratios)"
   ]
  }
 ],
 "metadata": {
  "kernelspec": {
   "display_name": "Python 3",
   "language": "python",
   "name": "python3"
  },
  "language_info": {
   "codemirror_mode": {
    "name": "ipython",
    "version": 3
   },
   "file_extension": ".py",
   "mimetype": "text/x-python",
   "name": "python",
   "nbconvert_exporter": "python",
   "pygments_lexer": "ipython3",
   "version": "3.9.5"
  }
 },
 "nbformat": 4,
 "nbformat_minor": 2
}
